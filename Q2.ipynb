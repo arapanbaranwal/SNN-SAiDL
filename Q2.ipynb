{
 "cells": [
  {
   "cell_type": "code",
   "execution_count": 94,
   "metadata": {},
   "outputs": [
    {
     "name": "stdout",
     "output_type": "stream",
     "text": [
      "\n",
      "Output from neural network after 1,00,000 epochs: [0.99651982] [0.01057923] [0.01025755] [0.98731049] [0.01072297] [0.98965306] [0.98910507] [0.0038495]\n",
      "\n",
      " Output: 1 0 0 1 0 1 1 0\n"
     ]
    }
   ],
   "source": [
    "import numpy as np \n",
    "#np.random.seed(0)\n",
    "\n",
    "def sigmoid (x):\n",
    "    return 1/(1 + np.exp(-x))\n",
    "\n",
    "def sigmoid_derivative(x):\n",
    "    return x * (1 - x)\n",
    "\n",
    "#Input datasets\n",
    "X = np.array([[1,1,0],[1,0,0],[0,1,0],[0,0,0],[1,1,1],[1,0,1],[0,1,1],[0,0,1]])\n",
    "Y = np.array([[1],[0],[0],[1],[0],[1],[1],[0]])\n",
    "\n",
    "epochs =100000\n",
    "lr = 0.1\n",
    "n_x, n_h, n_y = 3,3,1\n",
    "\n",
    "#Random weights and bias initialization\n",
    "W1 = np.random.uniform(size=(n_x,n_h))\n",
    "b1 =np.zeros((1,n_h))\n",
    "W2 = np.random.uniform(size=(n_h,n_y))\n",
    "b2 = np.zeros((1,n_y))\n",
    "\n",
    "#Training algorithm\n",
    "for _ in range(epochs):\n",
    "    #Forward Propagation\n",
    "    Z1 = np.dot(X,W1) + b1\n",
    "    A1 = sigmoid(Z1)\n",
    "\n",
    "    Z2 = np.dot(A1,W2) + b2\n",
    "    A2 = sigmoid(Z2)\n",
    "\n",
    "    #Backpropagation\n",
    "    error = Y - A2\n",
    "    d_A2 = error * sigmoid_derivative(A2)\n",
    "    \n",
    "    error_hidden_layer = d_A2.dot(W2.T)\n",
    "    d_hidden_layer = error_hidden_layer * sigmoid_derivative(A1)\n",
    "\n",
    "    #Updating Weights and Biases\n",
    "    W2 += A1.T.dot(d_A2) * lr\n",
    "    b2 += np.sum(d_A2,axis=0,keepdims=True) * lr\n",
    "    W1 += inputs.T.dot(d_hidden_layer) * lr\n",
    "    b1 += np.sum(d_hidden_layer,axis=0,keepdims=True) * lr\n",
    "\n",
    "\n",
    "print(\"\\nOutput from neural network after 1,00,000 epochs: \",end='')\n",
    "print(*A2)\n",
    "Result = [1 if x>0.5 else 0 for x in A2]\n",
    "print('\\n Output: ', end = '')\n",
    "print(*Result)"
   ]
  },
  {
   "cell_type": "code",
   "execution_count": null,
   "metadata": {},
   "outputs": [],
   "source": []
  },
  {
   "cell_type": "code",
   "execution_count": null,
   "metadata": {},
   "outputs": [],
   "source": []
  }
 ],
 "metadata": {
  "kernelspec": {
   "display_name": "Python 3",
   "language": "python",
   "name": "python3"
  },
  "language_info": {
   "codemirror_mode": {
    "name": "ipython",
    "version": 3
   },
   "file_extension": ".py",
   "mimetype": "text/x-python",
   "name": "python",
   "nbconvert_exporter": "python",
   "pygments_lexer": "ipython3",
   "version": "3.7.4"
  }
 },
 "nbformat": 4,
 "nbformat_minor": 2
}
